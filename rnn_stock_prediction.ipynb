{
 "cells": [
  {
   "cell_type": "code",
   "execution_count": 19,
   "metadata": {},
   "outputs": [],
   "source": [
    "import yfinance as yf\n",
    "import matplotlib.pyplot as plt\n",
    "import datetime\n",
    "\n",
    "\n",
    "# ml\n",
    "import numpy as np\n",
    "from sklearn.model_selection import train_test_split\n",
    "\n",
    "from tensorflow.keras.layers import Input, Dense, Activation,Dropout, LSTM\n",
    "from tensorflow.keras.models import Model\n",
    "from tensorflow.keras import Sequential\n",
    "\n",
    "\n",
    "from sklearn.metrics import confusion_matrix\n",
    "from sklearn.preprocessing import MinMaxScaler\n",
    "\n",
    "import tensorflow as tf\n",
    "import pandas as pd"
   ]
  },
  {
   "cell_type": "code",
   "execution_count": 20,
   "metadata": {},
   "outputs": [
    {
     "name": "stdout",
     "output_type": "stream",
     "text": [
      "2.2.0\n"
     ]
    }
   ],
   "source": [
    "print(tf.__version__)"
   ]
  },
  {
   "cell_type": "code",
   "execution_count": 77,
   "metadata": {},
   "outputs": [],
   "source": [
    "class StockPredictor():\n",
    "    \n",
    "    hist_start   = '2010-01-01'\n",
    "    sequence_len = 60\n",
    "    epoch        = 10\n",
    "    batch_size   = 30\n",
    "    \n",
    "    def __init__(self, ticker_sym):\n",
    "        self.ticker = yf.Ticker(ticker_sym)\n",
    "        self.ticker_df, self.train_data, self.test_data = self.fetch_ticker_data()\n",
    "        self.model = Sequential()\n",
    "        \n",
    "    def fetch_ticker_data(self):\n",
    "        \n",
    "        # step 1 - fetch data\n",
    "        hist_end = datetime.datetime.today().strftime('%Y-%m-%d')\n",
    "        ticker_df = self.ticker.history(interval='1d', start=self.hist_start, end=end)\n",
    "        \n",
    "        # step 2 - clean data\n",
    "        ticker_df = ticker_df.drop(['Dividends', 'Stock Splits', 'Volume'], axis=1)\n",
    "        ticker_df.dropna()\n",
    "    \n",
    "        # step 3 - scale\n",
    "        scaler = MinMaxScaler()\n",
    "        ticker_df = scaler.fit_transform(ticker_df)\n",
    "        \n",
    "        # step 4 - split data\n",
    "        train_data, test_data = train_test_split(ticker_df, shuffle=False)\n",
    "                \n",
    "        return ticker_df, train_data, test_data\n",
    "    \n",
    "    @staticmethod\n",
    "    def sequence_data(series_data, sequence_len):\n",
    "        X = []\n",
    "        y = []\n",
    "        \n",
    "        for i in range(sequence_len, series_data.shape[0]):\n",
    "            X.append(series_data[i-sequence_len:i])\n",
    "            y.append(series_data[i, 0])\n",
    "\n",
    "        return np.array(X), np.array(y)\n",
    "        \n",
    "    def train(self):\n",
    "\n",
    "        # step 1 - sequence data\n",
    "        X_train, y_train = StockPredictor.sequence_data(self.train_data, self.sequence_len)\n",
    "        \n",
    "        # step 2 - build model\n",
    "        self.build_model( (X_train.shape[1],X_train.shape[2]) )\n",
    "\n",
    "        # step 3 - fit\n",
    "        self.model.fit(X_train, y_train, epochs=10, batch_size=30)\n",
    "        \n",
    "    def test(self):\n",
    "        \n",
    "        # step 1 - sequence data\n",
    "        X_test, y_test = StockPredictor.sequence_data(self.test_data, self.sequence_len)\n",
    "        \n",
    "        # step 2 - predict\n",
    "        pred = self.model.predict(X_test)\n",
    "        \n",
    "        # step 3 - evaluate\n",
    "        snrdB = 10*np.log10(np.sum(np.square( pred[:,59] - y_test ))/np.sum(np.square(y_test)))\n",
    " \n",
    "        return snrdB\n",
    "    \n",
    "    def build_model(self, input_shape):\n",
    "\n",
    "        self.model.add(LSTM(units=60, activation='relu', return_sequences=True, input_shape = input_shape))\n",
    "        self.model.add(Dropout(0.2))\n",
    "\n",
    "        self.model.add(LSTM(units=120, activation='relu', return_sequences=True))\n",
    "        self.model.add(Dropout(0.6))\n",
    "\n",
    "        self.model.add(LSTM(units=80, activation='relu', return_sequences=True))\n",
    "        self.model.add(Dropout(0.2))\n",
    "        \n",
    "        self.model.add(Dense(1))\n",
    "        self.model.build()\n",
    "        \n",
    "        self.model.summary()\n",
    "        \n",
    "        self.model.compile(optimizer='adam', loss='mean_squared_error')\n",
    "    \n",
    "    def predict(self, date):\n",
    "        pass"
   ]
  },
  {
   "cell_type": "code",
   "execution_count": 78,
   "metadata": {},
   "outputs": [],
   "source": [
    "s = StockPredictor('aapl')"
   ]
  },
  {
   "cell_type": "code",
   "execution_count": 79,
   "metadata": {
    "scrolled": true
   },
   "outputs": [
    {
     "name": "stdout",
     "output_type": "stream",
     "text": [
      "Model: \"sequential_13\"\n",
      "_________________________________________________________________\n",
      "Layer (type)                 Output Shape              Param #   \n",
      "=================================================================\n",
      "lstm_8 (LSTM)                (None, 60, 60)            15600     \n",
      "_________________________________________________________________\n",
      "dropout_8 (Dropout)          (None, 60, 60)            0         \n",
      "_________________________________________________________________\n",
      "lstm_9 (LSTM)                (None, 60, 120)           86880     \n",
      "_________________________________________________________________\n",
      "dropout_9 (Dropout)          (None, 60, 120)           0         \n",
      "_________________________________________________________________\n",
      "lstm_10 (LSTM)               (None, 60, 80)            64320     \n",
      "_________________________________________________________________\n",
      "dropout_10 (Dropout)         (None, 60, 80)            0         \n",
      "_________________________________________________________________\n",
      "dense_4 (Dense)              (None, 60, 1)             81        \n",
      "=================================================================\n",
      "Total params: 166,881\n",
      "Trainable params: 166,881\n",
      "Non-trainable params: 0\n",
      "_________________________________________________________________\n",
      "Epoch 1/10\n",
      "65/65 [==============================] - 12s 184ms/step - loss: 0.0061\n",
      "Epoch 2/10\n",
      "65/65 [==============================] - 12s 181ms/step - loss: 0.0018\n",
      "Epoch 3/10\n",
      "65/65 [==============================] - 22s 332ms/step - loss: 0.0013\n",
      "Epoch 4/10\n",
      "65/65 [==============================] - 17s 268ms/step - loss: 0.0011\n",
      "Epoch 5/10\n",
      "65/65 [==============================] - 12s 183ms/step - loss: 9.4654e-04\n",
      "Epoch 6/10\n",
      "65/65 [==============================] - 13s 208ms/step - loss: 8.5278e-04\n",
      "Epoch 7/10\n",
      "65/65 [==============================] - 12s 177ms/step - loss: 7.7794e-04\n",
      "Epoch 8/10\n",
      "65/65 [==============================] - 13s 193ms/step - loss: 7.4222e-04\n",
      "Epoch 9/10\n",
      "65/65 [==============================] - 13s 203ms/step - loss: 7.4049e-04\n",
      "Epoch 10/10\n",
      "65/65 [==============================] - 11s 165ms/step - loss: 6.7820e-04\n"
     ]
    }
   ],
   "source": [
    "s.train()"
   ]
  },
  {
   "cell_type": "code",
   "execution_count": 80,
   "metadata": {},
   "outputs": [
    {
     "data": {
      "text/plain": [
       "19.444270039196127"
      ]
     },
     "execution_count": 80,
     "metadata": {},
     "output_type": "execute_result"
    }
   ],
   "source": [
    "s.test()"
   ]
  },
  {
   "cell_type": "markdown",
   "metadata": {},
   "source": [
    "# 1. data"
   ]
  },
  {
   "cell_type": "code",
   "execution_count": 6,
   "metadata": {},
   "outputs": [],
   "source": [
    "# get stock data for ticker\n",
    "ticker = yf.Ticker('aapl')\n",
    "\n",
    "start ='2010-01-01'\n",
    "end   = datetime.datetime.today().strftime('%Y-%m-%d')\n",
    "\n",
    "ticker_df = ticker.history(interval='1d', start=start, end=end)"
   ]
  },
  {
   "cell_type": "code",
   "execution_count": 8,
   "metadata": {},
   "outputs": [
    {
     "data": {
      "text/html": [
       "<div>\n",
       "<style scoped>\n",
       "    .dataframe tbody tr th:only-of-type {\n",
       "        vertical-align: middle;\n",
       "    }\n",
       "\n",
       "    .dataframe tbody tr th {\n",
       "        vertical-align: top;\n",
       "    }\n",
       "\n",
       "    .dataframe thead th {\n",
       "        text-align: right;\n",
       "    }\n",
       "</style>\n",
       "<table border=\"1\" class=\"dataframe\">\n",
       "  <thead>\n",
       "    <tr style=\"text-align: right;\">\n",
       "      <th></th>\n",
       "      <th>Open</th>\n",
       "      <th>High</th>\n",
       "      <th>Low</th>\n",
       "      <th>Close</th>\n",
       "      <th>Volume</th>\n",
       "      <th>Dividends</th>\n",
       "      <th>Stock Splits</th>\n",
       "    </tr>\n",
       "    <tr>\n",
       "      <th>Date</th>\n",
       "      <th></th>\n",
       "      <th></th>\n",
       "      <th></th>\n",
       "      <th></th>\n",
       "      <th></th>\n",
       "      <th></th>\n",
       "      <th></th>\n",
       "    </tr>\n",
       "  </thead>\n",
       "  <tbody>\n",
       "    <tr>\n",
       "      <th>2009-12-31</th>\n",
       "      <td>26.36</td>\n",
       "      <td>26.39</td>\n",
       "      <td>26.04</td>\n",
       "      <td>26.06</td>\n",
       "      <td>88102700</td>\n",
       "      <td>0.0</td>\n",
       "      <td>0.0</td>\n",
       "    </tr>\n",
       "    <tr>\n",
       "      <th>2010-01-04</th>\n",
       "      <td>26.40</td>\n",
       "      <td>26.53</td>\n",
       "      <td>26.27</td>\n",
       "      <td>26.47</td>\n",
       "      <td>123432400</td>\n",
       "      <td>0.0</td>\n",
       "      <td>0.0</td>\n",
       "    </tr>\n",
       "    <tr>\n",
       "      <th>2010-01-05</th>\n",
       "      <td>26.54</td>\n",
       "      <td>26.66</td>\n",
       "      <td>26.37</td>\n",
       "      <td>26.51</td>\n",
       "      <td>150476200</td>\n",
       "      <td>0.0</td>\n",
       "      <td>0.0</td>\n",
       "    </tr>\n",
       "    <tr>\n",
       "      <th>2010-01-06</th>\n",
       "      <td>26.51</td>\n",
       "      <td>26.62</td>\n",
       "      <td>26.06</td>\n",
       "      <td>26.09</td>\n",
       "      <td>138040000</td>\n",
       "      <td>0.0</td>\n",
       "      <td>0.0</td>\n",
       "    </tr>\n",
       "    <tr>\n",
       "      <th>2010-01-07</th>\n",
       "      <td>26.19</td>\n",
       "      <td>26.22</td>\n",
       "      <td>25.85</td>\n",
       "      <td>26.04</td>\n",
       "      <td>119282800</td>\n",
       "      <td>0.0</td>\n",
       "      <td>0.0</td>\n",
       "    </tr>\n",
       "  </tbody>\n",
       "</table>\n",
       "</div>"
      ],
      "text/plain": [
       "             Open   High    Low  Close     Volume  Dividends  Stock Splits\n",
       "Date                                                                      \n",
       "2009-12-31  26.36  26.39  26.04  26.06   88102700        0.0           0.0\n",
       "2010-01-04  26.40  26.53  26.27  26.47  123432400        0.0           0.0\n",
       "2010-01-05  26.54  26.66  26.37  26.51  150476200        0.0           0.0\n",
       "2010-01-06  26.51  26.62  26.06  26.09  138040000        0.0           0.0\n",
       "2010-01-07  26.19  26.22  25.85  26.04  119282800        0.0           0.0"
      ]
     },
     "execution_count": 8,
     "metadata": {},
     "output_type": "execute_result"
    }
   ],
   "source": [
    "ticker_df.head()"
   ]
  },
  {
   "cell_type": "code",
   "execution_count": 9,
   "metadata": {},
   "outputs": [],
   "source": [
    "ticker_df = ticker_df.drop(['Dividends', 'Stock Splits', 'Volume'], axis=1)"
   ]
  },
  {
   "cell_type": "code",
   "execution_count": 10,
   "metadata": {
    "scrolled": true
   },
   "outputs": [
    {
     "data": {
      "text/plain": [
       "Open     0\n",
       "High     0\n",
       "Low      0\n",
       "Close    0\n",
       "dtype: int64"
      ]
     },
     "execution_count": 10,
     "metadata": {},
     "output_type": "execute_result"
    }
   ],
   "source": [
    "# check for nulls\n",
    "ticker_df.isnull().sum()"
   ]
  },
  {
   "cell_type": "code",
   "execution_count": 11,
   "metadata": {},
   "outputs": [
    {
     "data": {
      "text/html": [
       "<div>\n",
       "<style scoped>\n",
       "    .dataframe tbody tr th:only-of-type {\n",
       "        vertical-align: middle;\n",
       "    }\n",
       "\n",
       "    .dataframe tbody tr th {\n",
       "        vertical-align: top;\n",
       "    }\n",
       "\n",
       "    .dataframe thead th {\n",
       "        text-align: right;\n",
       "    }\n",
       "</style>\n",
       "<table border=\"1\" class=\"dataframe\">\n",
       "  <thead>\n",
       "    <tr style=\"text-align: right;\">\n",
       "      <th></th>\n",
       "      <th>Open</th>\n",
       "      <th>High</th>\n",
       "      <th>Low</th>\n",
       "      <th>Close</th>\n",
       "    </tr>\n",
       "    <tr>\n",
       "      <th>Date</th>\n",
       "      <th></th>\n",
       "      <th></th>\n",
       "      <th></th>\n",
       "      <th></th>\n",
       "    </tr>\n",
       "  </thead>\n",
       "  <tbody>\n",
       "    <tr>\n",
       "      <th>2009-12-31</th>\n",
       "      <td>26.36</td>\n",
       "      <td>26.39</td>\n",
       "      <td>26.04</td>\n",
       "      <td>26.06</td>\n",
       "    </tr>\n",
       "    <tr>\n",
       "      <th>2010-01-04</th>\n",
       "      <td>26.40</td>\n",
       "      <td>26.53</td>\n",
       "      <td>26.27</td>\n",
       "      <td>26.47</td>\n",
       "    </tr>\n",
       "    <tr>\n",
       "      <th>2010-01-05</th>\n",
       "      <td>26.54</td>\n",
       "      <td>26.66</td>\n",
       "      <td>26.37</td>\n",
       "      <td>26.51</td>\n",
       "    </tr>\n",
       "    <tr>\n",
       "      <th>2010-01-06</th>\n",
       "      <td>26.51</td>\n",
       "      <td>26.62</td>\n",
       "      <td>26.06</td>\n",
       "      <td>26.09</td>\n",
       "    </tr>\n",
       "    <tr>\n",
       "      <th>2010-01-07</th>\n",
       "      <td>26.19</td>\n",
       "      <td>26.22</td>\n",
       "      <td>25.85</td>\n",
       "      <td>26.04</td>\n",
       "    </tr>\n",
       "    <tr>\n",
       "      <th>...</th>\n",
       "      <td>...</td>\n",
       "      <td>...</td>\n",
       "      <td>...</td>\n",
       "      <td>...</td>\n",
       "    </tr>\n",
       "    <tr>\n",
       "      <th>2020-07-06</th>\n",
       "      <td>370.00</td>\n",
       "      <td>375.78</td>\n",
       "      <td>369.87</td>\n",
       "      <td>373.85</td>\n",
       "    </tr>\n",
       "    <tr>\n",
       "      <th>2020-07-07</th>\n",
       "      <td>375.41</td>\n",
       "      <td>378.62</td>\n",
       "      <td>372.23</td>\n",
       "      <td>372.69</td>\n",
       "    </tr>\n",
       "    <tr>\n",
       "      <th>2020-07-08</th>\n",
       "      <td>376.72</td>\n",
       "      <td>381.50</td>\n",
       "      <td>376.36</td>\n",
       "      <td>381.37</td>\n",
       "    </tr>\n",
       "    <tr>\n",
       "      <th>2020-07-09</th>\n",
       "      <td>385.05</td>\n",
       "      <td>385.27</td>\n",
       "      <td>378.69</td>\n",
       "      <td>383.01</td>\n",
       "    </tr>\n",
       "    <tr>\n",
       "      <th>2020-07-10</th>\n",
       "      <td>381.34</td>\n",
       "      <td>383.92</td>\n",
       "      <td>378.82</td>\n",
       "      <td>383.68</td>\n",
       "    </tr>\n",
       "  </tbody>\n",
       "</table>\n",
       "<p>2649 rows × 4 columns</p>\n",
       "</div>"
      ],
      "text/plain": [
       "              Open    High     Low   Close\n",
       "Date                                      \n",
       "2009-12-31   26.36   26.39   26.04   26.06\n",
       "2010-01-04   26.40   26.53   26.27   26.47\n",
       "2010-01-05   26.54   26.66   26.37   26.51\n",
       "2010-01-06   26.51   26.62   26.06   26.09\n",
       "2010-01-07   26.19   26.22   25.85   26.04\n",
       "...            ...     ...     ...     ...\n",
       "2020-07-06  370.00  375.78  369.87  373.85\n",
       "2020-07-07  375.41  378.62  372.23  372.69\n",
       "2020-07-08  376.72  381.50  376.36  381.37\n",
       "2020-07-09  385.05  385.27  378.69  383.01\n",
       "2020-07-10  381.34  383.92  378.82  383.68\n",
       "\n",
       "[2649 rows x 4 columns]"
      ]
     },
     "execution_count": 11,
     "metadata": {},
     "output_type": "execute_result"
    }
   ],
   "source": [
    "ticker_df.dropna()"
   ]
  },
  {
   "cell_type": "code",
   "execution_count": 12,
   "metadata": {},
   "outputs": [
    {
     "data": {
      "text/plain": [
       "Text(0.5, 1.0, 'Apple stock history')"
      ]
     },
     "execution_count": 12,
     "metadata": {},
     "output_type": "execute_result"
    },
    {
     "data": {
      "image/png": "[encoded data removed]",
      "text/plain": [
       "<Figure size 432x288 with 1 Axes>"
      ]
     },
     "metadata": {
      "needs_background": "light"
     },
     "output_type": "display_data"
    }
   ],
   "source": [
    "plt.plot(ticker_df['Open'])\n",
    "plt.title('Apple stock history')"
   ]
  },
  {
   "cell_type": "code",
   "execution_count": 18,
   "metadata": {},
   "outputs": [],
   "source": [
    "# train/test split\n",
    "train_data, test_data = train_test_split(ticker_df, shuffle=False)"
   ]
  },
  {
   "cell_type": "code",
   "execution_count": 152,
   "metadata": {},
   "outputs": [
    {
     "data": {
      "text/plain": [
       "(2265, 4)"
      ]
     },
     "execution_count": 152,
     "metadata": {},
     "output_type": "execute_result"
    }
   ],
   "source": [
    "scaler = MinMaxScaler()\n",
    "\n",
    "training_data = scaler.fit_transform(ticker_df[:'2019-01-01'])\n",
    "training_data.shape"
   ]
  },
  {
   "cell_type": "code",
   "execution_count": 102,
   "metadata": {},
   "outputs": [],
   "source": [
    "# train and test data\n",
    "\n",
    "X_train = []\n",
    "y_train = []\n",
    "\n",
    "for i in range(60, training_data.shape[0]):\n",
    "    X_train.append(training_data[i-60:i])\n",
    "    y_train.append(training_data[i, 0])\n",
    "\n",
    "X_train = np.array(X_train)\n",
    "y_train = np.array(y_train)"
   ]
  },
  {
   "cell_type": "code",
   "execution_count": 103,
   "metadata": {},
   "outputs": [
    {
     "name": "stdout",
     "output_type": "stream",
     "text": [
      "X_train.shape = (2584, 60, 4)\n",
      "y_train.shape = (2584,)\n"
     ]
    }
   ],
   "source": [
    "print(f'X_train.shape = {X_train.shape}')\n",
    "print(f'y_train.shape = {y_train.shape}')"
   ]
  },
  {
   "cell_type": "markdown",
   "metadata": {},
   "source": [
    "# 2. Model"
   ]
  },
  {
   "cell_type": "code",
   "execution_count": 104,
   "metadata": {},
   "outputs": [],
   "source": [
    "regressor = Sequential()\n",
    "\n",
    "regressor.add(LSTM(units=60, activation='relu', return_sequences=True, input_shape = (X_train.shape[1],X_train.shape[2])))\n",
    "regressor.add(Dropout(0.2))\n",
    "\n",
    "regressor.add(LSTM(units=80, activation='relu', return_sequences=True))\n",
    "regressor.add(Dropout(0.2))\n",
    "\n",
    "regressor.add(Dense(1))\n",
    "regressor.build()"
   ]
  },
  {
   "cell_type": "code",
   "execution_count": 105,
   "metadata": {},
   "outputs": [
    {
     "name": "stdout",
     "output_type": "stream",
     "text": [
      "Model: \"sequential_4\"\n",
      "_________________________________________________________________\n",
      "Layer (type)                 Output Shape              Param #   \n",
      "=================================================================\n",
      "lstm_8 (LSTM)                (None, 60, 60)            15600     \n",
      "_________________________________________________________________\n",
      "dropout_8 (Dropout)          (None, 60, 60)            0         \n",
      "_________________________________________________________________\n",
      "lstm_9 (LSTM)                (None, 60, 80)            45120     \n",
      "_________________________________________________________________\n",
      "dropout_9 (Dropout)          (None, 60, 80)            0         \n",
      "_________________________________________________________________\n",
      "dense_4 (Dense)              (None, 60, 1)             81        \n",
      "=================================================================\n",
      "Total params: 60,801\n",
      "Trainable params: 60,801\n",
      "Non-trainable params: 0\n",
      "_________________________________________________________________\n"
     ]
    }
   ],
   "source": [
    "regressor.summary()"
   ]
  },
  {
   "cell_type": "code",
   "execution_count": 106,
   "metadata": {},
   "outputs": [],
   "source": [
    "regressor.compile(optimizer='adam', loss='mean_squared_error')"
   ]
  },
  {
   "cell_type": "markdown",
   "metadata": {},
   "source": [
    "# 3. train"
   ]
  },
  {
   "cell_type": "code",
   "execution_count": 107,
   "metadata": {},
   "outputs": [
    {
     "name": "stdout",
     "output_type": "stream",
     "text": [
      "Epoch 1/10\n",
      "87/87 [==============================] - 7s 85ms/step - loss: 0.0122\n",
      "Epoch 2/10\n",
      "87/87 [==============================] - 7s 75ms/step - loss: 0.0055\n",
      "Epoch 3/10\n",
      "87/87 [==============================] - 5s 63ms/step - loss: 0.0044\n",
      "Epoch 4/10\n",
      "87/87 [==============================] - 5s 60ms/step - loss: 0.0038\n",
      "Epoch 5/10\n",
      "87/87 [==============================] - 6s 64ms/step - loss: 0.0035\n",
      "Epoch 6/10\n",
      "87/87 [==============================] - 6s 64ms/step - loss: 0.0032\n",
      "Epoch 7/10\n",
      "87/87 [==============================] - 5s 60ms/step - loss: 0.0031\n",
      "Epoch 8/10\n",
      "87/87 [==============================] - 6s 65ms/step - loss: 0.0028\n",
      "Epoch 9/10\n",
      "87/87 [==============================] - 6s 64ms/step - loss: 0.0028\n",
      "Epoch 10/10\n",
      "87/87 [==============================] - 5s 63ms/step - loss: 0.0028\n"
     ]
    },
    {
     "data": {
      "text/plain": [
       "<tensorflow.python.keras.callbacks.History at 0x7f657dd10048>"
      ]
     },
     "execution_count": 107,
     "metadata": {},
     "output_type": "execute_result"
    }
   ],
   "source": [
    "regressor.fit(X_train, y_train, epochs=10, batch_size=30)"
   ]
  },
  {
   "cell_type": "code",
   "execution_count": 158,
   "metadata": {},
   "outputs": [
    {
     "data": {
      "text/plain": [
       "Text(0.5, 1.0, 'train data')"
      ]
     },
     "execution_count": 158,
     "metadata": {},
     "output_type": "execute_result"
    },
    {
     "data": {
      "image/png": "[encoded data removed]",
      "text/plain": [
       "<Figure size 432x288 with 1 Axes>"
      ]
     },
     "metadata": {
      "needs_background": "light"
     },
     "output_type": "display_data"
    }
   ],
   "source": [
    "pred = regressor.predict(X_train)\n",
    "plt.plot(pred[:,59])\n",
    "plt.plot(y_train)\n",
    "plt.legend(['prediction', 'actual'])\n",
    "plt.title('train data')"
   ]
  },
  {
   "cell_type": "markdown",
   "metadata": {},
   "source": [
    "# 4. evaluate"
   ]
  },
  {
   "cell_type": "code",
   "execution_count": 155,
   "metadata": {},
   "outputs": [
    {
     "data": {
      "text/plain": [
       "(379, 4)"
      ]
     },
     "execution_count": 155,
     "metadata": {},
     "output_type": "execute_result"
    }
   ],
   "source": [
    "# evaluate on test data\n",
    "test_data = scaler.fit_transform(ticker_df['2019-01-01':])\n",
    "test_data.shape"
   ]
  },
  {
   "cell_type": "code",
   "execution_count": 157,
   "metadata": {},
   "outputs": [],
   "source": [
    "X_test = []\n",
    "y_test = []\n",
    "for i in range(60, test_data.shape[0]):\n",
    "    X_test.append(test_data[i-60:i])\n",
    "    y_test.append(test_data[i, 0])\n",
    "    \n",
    "X_test = np.array(X_test)\n",
    "y_test = np.array(y_test)"
   ]
  },
  {
   "cell_type": "code",
   "execution_count": 159,
   "metadata": {},
   "outputs": [
    {
     "data": {
      "text/plain": [
       "Text(0.5, 1.0, 'train data')"
      ]
     },
     "execution_count": 159,
     "metadata": {},
     "output_type": "execute_result"
    },
    {
     "data": {
      "image/png": "[encoded data removed]",
      "text/plain": [
       "<Figure size 432x288 with 1 Axes>"
      ]
     },
     "metadata": {
      "needs_background": "light"
     },
     "output_type": "display_data"
    }
   ],
   "source": [
    "pred = regressor.predict(X_test)\n",
    "plt.plot(pred[:,59])\n",
    "plt.plot(y_test)\n",
    "plt.legend(['prediction', 'actual'])\n",
    "plt.title('train data')"
   ]
  },
  {
   "cell_type": "code",
   "execution_count": 166,
   "metadata": {},
   "outputs": [
    {
     "data": {
      "text/plain": [
       "20.634985770504272"
      ]
     },
     "execution_count": 166,
     "metadata": {},
     "output_type": "execute_result"
    }
   ],
   "source": [
    "# metrics\n",
    "snr = 10*np.log10(np.sum(np.square( pred[:,59] - y_test ))/np.sum(np.square(y_test)))\n",
    "snr"
   ]
  }
 ],
 "metadata": {
  "kernelspec": {
   "display_name": "Python 3",
   "language": "python",
   "name": "python3"
  },
  "language_info": {
   "codemirror_mode": {
    "name": "ipython",
    "version": 3
   },
   "file_extension": ".py",
   "mimetype": "text/x-python",
   "name": "python",
   "nbconvert_exporter": "python",
   "pygments_lexer": "ipython3",
   "version": "3.6.10"
  }
 },
 "nbformat": 4,
 "nbformat_minor": 4
}
