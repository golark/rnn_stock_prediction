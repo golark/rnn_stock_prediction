{
 "cells": [
  {
   "cell_type": "code",
   "execution_count": 7,
   "metadata": {},
   "outputs": [],
   "source": [
    "import yfinance as yf\n",
    "import matplotlib.pyplot as plt\n",
    "import datetime\n",
    "\n",
    "# ml\n",
    "import numpy as np\n",
    "from sklearn.model_selection import train_test_split\n",
    "\n",
    "from tensorflow.keras.layers import Input, Dense, Activation,Dropout, LSTM\n",
    "from tensorflow.keras.models import Model\n",
    "from tensorflow.keras import Sequential\n",
    "\n",
    "\n",
    "from sklearn.metrics import confusion_matrix\n",
    "from sklearn.preprocessing import MinMaxScaler\n",
    "\n",
    "import tensorflow as tf\n",
    "import pandas as pd"
   ]
  },
  {
   "cell_type": "code",
   "execution_count": 8,
   "metadata": {},
   "outputs": [
    {
     "name": "stdout",
     "output_type": "stream",
     "text": [
      "2.2.0\n"
     ]
    }
   ],
   "source": [
    "print(tf.__version__)"
   ]
  },
  {
   "cell_type": "code",
   "execution_count": 12,
   "metadata": {},
   "outputs": [],
   "source": [
    "class StockPredictor():\n",
    "    \n",
    "    hist_start   = '2010-01-01'\n",
    "    sequence_len = 60\n",
    "    epoch        = 10\n",
    "    batch_size   = 30\n",
    "    \n",
    "    def __init__(self, ticker_sym):\n",
    "        self.ticker = yf.Ticker(ticker_sym)\n",
    "        self.ticker_df, self.train_data, self.test_data = self.fetch_ticker_data()\n",
    "        self.model = Sequential()\n",
    "        \n",
    "    # fetch_ticker_data\n",
    "    # get data from hist_start -> today\n",
    "    # scale and split to train/test set\n",
    "    def fetch_ticker_data(self):\n",
    "        \n",
    "        # step 1 - fetch data\n",
    "        hist_end = datetime.datetime.today().strftime('%Y-%m-%d')\n",
    "        ticker_df = self.ticker.history(interval='1d', start=self.hist_start, end=hist_end)\n",
    "        \n",
    "        # step 2 - clean data\n",
    "        ticker_df = ticker_df.drop(['Dividends', 'Stock Splits', 'Volume'], axis=1)\n",
    "        ticker_df.dropna()\n",
    "        \n",
    "        # step 3 - scale\n",
    "        scaler = MinMaxScaler()\n",
    "        ticker_scaled = scaler.fit_transform(ticker_df)\n",
    "\n",
    "        ticker_df['Open']  = ticker_scaled[:,0]\n",
    "        ticker_df['High']  = ticker_scaled[:,1]\n",
    "        ticker_df['Low']   = ticker_scaled[:,2]\n",
    "        ticker_df['Close'] = ticker_scaled[:,3]\n",
    "        \n",
    "        # step 4 - split data\n",
    "        train_data, test_data = train_test_split(ticker_df, shuffle=False)\n",
    "                \n",
    "        return ticker_df, np.array(train_data), np.array(test_data)\n",
    "    \n",
    "    # sequence_data\n",
    "    # running window of sequences to format data\n",
    "    # as input to the rnn\n",
    "    # data = [0 - sequence_len-1]\n",
    "    #        [1 - sequence_len-2]\n",
    "    #        ...................\n",
    "    @staticmethod\n",
    "    def sequence_data(series_data, sequence_len):\n",
    "        X = []\n",
    "        y = []\n",
    "        \n",
    "        for i in range(sequence_len, series_data.shape[0]):\n",
    "            X.append(series_data[i-sequence_len:i])\n",
    "            y.append(series_data[i, 0])\n",
    "\n",
    "        return np.array(X), np.array(y)\n",
    "        \n",
    "        \n",
    "    # train    \n",
    "    def train(self):\n",
    "\n",
    "        # step 1 - sequence data\n",
    "        X_train, y_train = StockPredictor.sequence_data(self.train_data, self.sequence_len)\n",
    "        \n",
    "        # step 2 - build model\n",
    "        self.build_model( (X_train.shape[1],X_train.shape[2]) )\n",
    "\n",
    "        # step 3 - fit\n",
    "        self.model.fit(X_train, y_train, epochs=self.epoch, batch_size=self.batch_size)\n",
    "        \n",
    "        \n",
    "    # test\n",
    "    # \n",
    "    def test(self):\n",
    "        \n",
    "        # step 1 - sequence data\n",
    "        X_test, y_test = StockPredictor.sequence_data(self.test_data, self.sequence_len)\n",
    "        \n",
    "        # step 2 - predict\n",
    "        pred = self.model.predict(X_test)\n",
    "        \n",
    "        # step 3 - evaluate\n",
    "        snrdB = 10*np.log10(np.sum(np.square( pred[:,59] - y_test ))/np.sum(np.square(y_test)))\n",
    " \n",
    "        return snrdB\n",
    "    \n",
    "    \n",
    "    # build_model\n",
    "    # construct the model\n",
    "    def build_model(self, input_shape):\n",
    "\n",
    "        # input layer\n",
    "        self.model.add(LSTM(units=self.sequence_len, activation='relu', return_sequences=True, input_shape = input_shape))\n",
    "        self.model.add(Dropout(0.2))\n",
    "\n",
    "        # hidden layer\n",
    "        self.model.add(LSTM(units=120, activation='relu', return_sequences=True))\n",
    "        self.model.add(Dropout(0.6))\n",
    "\n",
    "        # hidden 2\n",
    "        self.model.add(LSTM(units=80, activation='relu', return_sequences=True))\n",
    "        self.model.add(Dropout(0.2))\n",
    "        \n",
    "        # output\n",
    "        self.model.add(Dense(1))\n",
    "        self.model.build()\n",
    "        \n",
    "        # spit a summary\n",
    "        self.model.summary()\n",
    "        \n",
    "        # optimizer and loss function\n",
    "        self.model.compile(optimizer='adam', loss='mean_squared_error')\n",
    "    \n",
    "    \n",
    "    # predict\n",
    "    # predict the value on given date\n",
    "    def predict(self, date):\n",
    "        \n",
    "        # step 1 - get sequence data ( date - sequence_len -> date )\n",
    "        sequence_data = self.ticker_df[:date].iloc[-self.sequence_len-1:-1]\n",
    "        \n",
    "        # step 2 - load sequence data and predict\n",
    "        pred = regressor.predict(np.expand_dims(sequence_data, axis=0))\n",
    "        \n",
    "        return pred\n"
   ]
  },
  {
   "cell_type": "code",
   "execution_count": 13,
   "metadata": {},
   "outputs": [
    {
     "name": "stdout",
     "output_type": "stream",
     "text": [
      "Model: \"sequential_1\"\n",
      "_________________________________________________________________\n",
      "Layer (type)                 Output Shape              Param #   \n",
      "=================================================================\n",
      "lstm_3 (LSTM)                (None, 60, 60)            15600     \n",
      "_________________________________________________________________\n",
      "dropout_3 (Dropout)          (None, 60, 60)            0         \n",
      "_________________________________________________________________\n",
      "lstm_4 (LSTM)                (None, 60, 120)           86880     \n",
      "_________________________________________________________________\n",
      "dropout_4 (Dropout)          (None, 60, 120)           0         \n",
      "_________________________________________________________________\n",
      "lstm_5 (LSTM)                (None, 60, 80)            64320     \n",
      "_________________________________________________________________\n",
      "dropout_5 (Dropout)          (None, 60, 80)            0         \n",
      "_________________________________________________________________\n",
      "dense_1 (Dense)              (None, 60, 1)             81        \n",
      "=================================================================\n",
      "Total params: 166,881\n",
      "Trainable params: 166,881\n",
      "Non-trainable params: 0\n",
      "_________________________________________________________________\n",
      "Epoch 1/10\n",
      "65/65 [==============================] - 13s 201ms/step - loss: 0.0060\n",
      "Epoch 2/10\n",
      "65/65 [==============================] - 15s 226ms/step - loss: 0.0018\n",
      "Epoch 3/10\n",
      "65/65 [==============================] - 20s 305ms/step - loss: 0.0013\n",
      "Epoch 4/10\n",
      "65/65 [==============================] - 16s 249ms/step - loss: 0.0012\n",
      "Epoch 5/10\n",
      "65/65 [==============================] - 15s 238ms/step - loss: 0.0010\n",
      "Epoch 6/10\n",
      "65/65 [==============================] - 12s 180ms/step - loss: 9.0122e-04\n",
      "Epoch 7/10\n",
      "65/65 [==============================] - 12s 186ms/step - loss: 8.2106e-04\n",
      "Epoch 8/10\n",
      "65/65 [==============================] - 13s 205ms/step - loss: 7.7933e-04\n",
      "Epoch 9/10\n",
      "65/65 [==============================] - 10s 159ms/step - loss: 7.3930e-04\n",
      "Epoch 10/10\n",
      "65/65 [==============================] - 10s 156ms/step - loss: 6.9719e-04\n"
     ]
    }
   ],
   "source": [
    "# example usage\n",
    "s = StockPredictor('aapl')\n",
    "s.train()"
   ]
  },
  {
   "cell_type": "code",
   "execution_count": 11,
   "metadata": {},
   "outputs": [
    {
     "data": {
      "text/plain": [
       "19.107199092049697"
      ]
     },
     "execution_count": 11,
     "metadata": {},
     "output_type": "execute_result"
    }
   ],
   "source": [
    "s.test()"
   ]
  },
  {
   "cell_type": "markdown",
   "metadata": {},
   "source": [
    "# 1. data"
   ]
  },
  {
   "cell_type": "code",
   "execution_count": 3,
   "metadata": {},
   "outputs": [],
   "source": [
    "# get stock data for ticker\n",
    "ticker = yf.Ticker('aapl')\n",
    "\n",
    "start ='2010-01-01'\n",
    "end   = datetime.datetime.today().strftime('%Y-%m-%d')\n",
    "\n",
    "ticker_df = ticker.history(interval='1d', start=start, end=end)"
   ]
  },
  {
   "cell_type": "code",
   "execution_count": 4,
   "metadata": {},
   "outputs": [
    {
     "data": {
      "text/html": [
       "<div>\n",
       "<style scoped>\n",
       "    .dataframe tbody tr th:only-of-type {\n",
       "        vertical-align: middle;\n",
       "    }\n",
       "\n",
       "    .dataframe tbody tr th {\n",
       "        vertical-align: top;\n",
       "    }\n",
       "\n",
       "    .dataframe thead th {\n",
       "        text-align: right;\n",
       "    }\n",
       "</style>\n",
       "<table border=\"1\" class=\"dataframe\">\n",
       "  <thead>\n",
       "    <tr style=\"text-align: right;\">\n",
       "      <th></th>\n",
       "      <th>Open</th>\n",
       "      <th>High</th>\n",
       "      <th>Low</th>\n",
       "      <th>Close</th>\n",
       "      <th>Volume</th>\n",
       "      <th>Dividends</th>\n",
       "      <th>Stock Splits</th>\n",
       "    </tr>\n",
       "    <tr>\n",
       "      <th>Date</th>\n",
       "      <th></th>\n",
       "      <th></th>\n",
       "      <th></th>\n",
       "      <th></th>\n",
       "      <th></th>\n",
       "      <th></th>\n",
       "      <th></th>\n",
       "    </tr>\n",
       "  </thead>\n",
       "  <tbody>\n",
       "    <tr>\n",
       "      <th>2009-12-31</th>\n",
       "      <td>26.36</td>\n",
       "      <td>26.39</td>\n",
       "      <td>26.04</td>\n",
       "      <td>26.06</td>\n",
       "      <td>88102700</td>\n",
       "      <td>0.0</td>\n",
       "      <td>0.0</td>\n",
       "    </tr>\n",
       "    <tr>\n",
       "      <th>2010-01-04</th>\n",
       "      <td>26.40</td>\n",
       "      <td>26.53</td>\n",
       "      <td>26.27</td>\n",
       "      <td>26.47</td>\n",
       "      <td>123432400</td>\n",
       "      <td>0.0</td>\n",
       "      <td>0.0</td>\n",
       "    </tr>\n",
       "    <tr>\n",
       "      <th>2010-01-05</th>\n",
       "      <td>26.54</td>\n",
       "      <td>26.66</td>\n",
       "      <td>26.37</td>\n",
       "      <td>26.51</td>\n",
       "      <td>150476200</td>\n",
       "      <td>0.0</td>\n",
       "      <td>0.0</td>\n",
       "    </tr>\n",
       "    <tr>\n",
       "      <th>2010-01-06</th>\n",
       "      <td>26.51</td>\n",
       "      <td>26.62</td>\n",
       "      <td>26.06</td>\n",
       "      <td>26.09</td>\n",
       "      <td>138040000</td>\n",
       "      <td>0.0</td>\n",
       "      <td>0.0</td>\n",
       "    </tr>\n",
       "    <tr>\n",
       "      <th>2010-01-07</th>\n",
       "      <td>26.19</td>\n",
       "      <td>26.22</td>\n",
       "      <td>25.85</td>\n",
       "      <td>26.04</td>\n",
       "      <td>119282800</td>\n",
       "      <td>0.0</td>\n",
       "      <td>0.0</td>\n",
       "    </tr>\n",
       "  </tbody>\n",
       "</table>\n",
       "</div>"
      ],
      "text/plain": [
       "             Open   High    Low  Close     Volume  Dividends  Stock Splits\n",
       "Date                                                                      \n",
       "2009-12-31  26.36  26.39  26.04  26.06   88102700        0.0           0.0\n",
       "2010-01-04  26.40  26.53  26.27  26.47  123432400        0.0           0.0\n",
       "2010-01-05  26.54  26.66  26.37  26.51  150476200        0.0           0.0\n",
       "2010-01-06  26.51  26.62  26.06  26.09  138040000        0.0           0.0\n",
       "2010-01-07  26.19  26.22  25.85  26.04  119282800        0.0           0.0"
      ]
     },
     "execution_count": 4,
     "metadata": {},
     "output_type": "execute_result"
    }
   ],
   "source": [
    "ticker_df.head()"
   ]
  },
  {
   "cell_type": "code",
   "execution_count": 5,
   "metadata": {},
   "outputs": [],
   "source": [
    "ticker_df = ticker_df.drop(['Dividends', 'Stock Splits', 'Volume'], axis=1)"
   ]
  },
  {
   "cell_type": "code",
   "execution_count": 6,
   "metadata": {
    "scrolled": true
   },
   "outputs": [
    {
     "data": {
      "text/plain": [
       "Open     0\n",
       "High     0\n",
       "Low      0\n",
       "Close    0\n",
       "dtype: int64"
      ]
     },
     "execution_count": 6,
     "metadata": {},
     "output_type": "execute_result"
    }
   ],
   "source": [
    "# check for nulls\n",
    "ticker_df.isnull().sum()"
   ]
  },
  {
   "cell_type": "code",
   "execution_count": 7,
   "metadata": {},
   "outputs": [
    {
     "data": {
      "text/html": [
       "<div>\n",
       "<style scoped>\n",
       "    .dataframe tbody tr th:only-of-type {\n",
       "        vertical-align: middle;\n",
       "    }\n",
       "\n",
       "    .dataframe tbody tr th {\n",
       "        vertical-align: top;\n",
       "    }\n",
       "\n",
       "    .dataframe thead th {\n",
       "        text-align: right;\n",
       "    }\n",
       "</style>\n",
       "<table border=\"1\" class=\"dataframe\">\n",
       "  <thead>\n",
       "    <tr style=\"text-align: right;\">\n",
       "      <th></th>\n",
       "      <th>Open</th>\n",
       "      <th>High</th>\n",
       "      <th>Low</th>\n",
       "      <th>Close</th>\n",
       "    </tr>\n",
       "    <tr>\n",
       "      <th>Date</th>\n",
       "      <th></th>\n",
       "      <th></th>\n",
       "      <th></th>\n",
       "      <th></th>\n",
       "    </tr>\n",
       "  </thead>\n",
       "  <tbody>\n",
       "    <tr>\n",
       "      <th>2009-12-31</th>\n",
       "      <td>26.36</td>\n",
       "      <td>26.39</td>\n",
       "      <td>26.04</td>\n",
       "      <td>26.06</td>\n",
       "    </tr>\n",
       "    <tr>\n",
       "      <th>2010-01-04</th>\n",
       "      <td>26.40</td>\n",
       "      <td>26.53</td>\n",
       "      <td>26.27</td>\n",
       "      <td>26.47</td>\n",
       "    </tr>\n",
       "    <tr>\n",
       "      <th>2010-01-05</th>\n",
       "      <td>26.54</td>\n",
       "      <td>26.66</td>\n",
       "      <td>26.37</td>\n",
       "      <td>26.51</td>\n",
       "    </tr>\n",
       "    <tr>\n",
       "      <th>2010-01-06</th>\n",
       "      <td>26.51</td>\n",
       "      <td>26.62</td>\n",
       "      <td>26.06</td>\n",
       "      <td>26.09</td>\n",
       "    </tr>\n",
       "    <tr>\n",
       "      <th>2010-01-07</th>\n",
       "      <td>26.19</td>\n",
       "      <td>26.22</td>\n",
       "      <td>25.85</td>\n",
       "      <td>26.04</td>\n",
       "    </tr>\n",
       "    <tr>\n",
       "      <th>...</th>\n",
       "      <td>...</td>\n",
       "      <td>...</td>\n",
       "      <td>...</td>\n",
       "      <td>...</td>\n",
       "    </tr>\n",
       "    <tr>\n",
       "      <th>2020-07-13</th>\n",
       "      <td>389.06</td>\n",
       "      <td>399.82</td>\n",
       "      <td>381.03</td>\n",
       "      <td>381.91</td>\n",
       "    </tr>\n",
       "    <tr>\n",
       "      <th>2020-07-14</th>\n",
       "      <td>379.36</td>\n",
       "      <td>389.02</td>\n",
       "      <td>375.51</td>\n",
       "      <td>388.23</td>\n",
       "    </tr>\n",
       "    <tr>\n",
       "      <th>2020-07-15</th>\n",
       "      <td>395.96</td>\n",
       "      <td>396.99</td>\n",
       "      <td>385.96</td>\n",
       "      <td>390.90</td>\n",
       "    </tr>\n",
       "    <tr>\n",
       "      <th>2020-07-16</th>\n",
       "      <td>386.25</td>\n",
       "      <td>389.62</td>\n",
       "      <td>383.62</td>\n",
       "      <td>386.09</td>\n",
       "    </tr>\n",
       "    <tr>\n",
       "      <th>2020-07-17</th>\n",
       "      <td>387.95</td>\n",
       "      <td>388.59</td>\n",
       "      <td>383.36</td>\n",
       "      <td>385.31</td>\n",
       "    </tr>\n",
       "  </tbody>\n",
       "</table>\n",
       "<p>2654 rows × 4 columns</p>\n",
       "</div>"
      ],
      "text/plain": [
       "              Open    High     Low   Close\n",
       "Date                                      \n",
       "2009-12-31   26.36   26.39   26.04   26.06\n",
       "2010-01-04   26.40   26.53   26.27   26.47\n",
       "2010-01-05   26.54   26.66   26.37   26.51\n",
       "2010-01-06   26.51   26.62   26.06   26.09\n",
       "2010-01-07   26.19   26.22   25.85   26.04\n",
       "...            ...     ...     ...     ...\n",
       "2020-07-13  389.06  399.82  381.03  381.91\n",
       "2020-07-14  379.36  389.02  375.51  388.23\n",
       "2020-07-15  395.96  396.99  385.96  390.90\n",
       "2020-07-16  386.25  389.62  383.62  386.09\n",
       "2020-07-17  387.95  388.59  383.36  385.31\n",
       "\n",
       "[2654 rows x 4 columns]"
      ]
     },
     "execution_count": 7,
     "metadata": {},
     "output_type": "execute_result"
    }
   ],
   "source": [
    "ticker_df.dropna()"
   ]
  },
  {
   "cell_type": "code",
   "execution_count": 8,
   "metadata": {},
   "outputs": [
    {
     "data": {
      "text/plain": [
       "Text(0.5, 1.0, 'Apple stock history')"
      ]
     },
     "execution_count": 8,
     "metadata": {},
     "output_type": "execute_result"
    },
    {
     "data": {
      "image/png": "[encoded data removed]",
      "text/plain": [
       "<Figure size 432x288 with 1 Axes>"
      ]
     },
     "metadata": {
      "needs_background": "light"
     },
     "output_type": "display_data"
    }
   ],
   "source": [
    "# visualise\n",
    "plt.plot(ticker_df['Open'])\n",
    "plt.title('Apple stock history')"
   ]
  },
  {
   "cell_type": "code",
   "execution_count": 9,
   "metadata": {},
   "outputs": [],
   "source": [
    "# scale\n",
    "scaler = MinMaxScaler()\n",
    "\n",
    "ticker_scaled = scaler.fit_transform(ticker_df)\n",
    "\n",
    "ticker_df['Open']  = ticker_scaled[:,0]\n",
    "ticker_df['High']  = ticker_scaled[:,1]\n",
    "ticker_df['Low']   = ticker_scaled[:,2]\n",
    "ticker_df['Close'] = ticker_scaled[:,3]"
   ]
  },
  {
   "cell_type": "code",
   "execution_count": 10,
   "metadata": {},
   "outputs": [],
   "source": [
    "# train/test split\n",
    "train_data, test_data = train_test_split(ticker_df, shuffle=False)\n",
    "train_data = np.array(train_data)\n",
    "test_data  = np.array(test_data)"
   ]
  },
  {
   "cell_type": "code",
   "execution_count": 11,
   "metadata": {},
   "outputs": [],
   "source": [
    "# train and test data\n",
    "\n",
    "X_train = []\n",
    "y_train = []\n",
    "\n",
    "for i in range(60, train_data.shape[0]):\n",
    "    X_train.append(train_data[i-60:i])\n",
    "    y_train.append(train_data[i, 0])\n",
    "\n",
    "X_train = np.array(X_train)\n",
    "y_train = np.array(y_train)"
   ]
  },
  {
   "cell_type": "code",
   "execution_count": 12,
   "metadata": {},
   "outputs": [
    {
     "name": "stdout",
     "output_type": "stream",
     "text": [
      "X_train.shape = (1930, 60, 4)\n",
      "y_train.shape = (1930,)\n"
     ]
    }
   ],
   "source": [
    "print(f'X_train.shape = {X_train.shape}')\n",
    "print(f'y_train.shape = {y_train.shape}')"
   ]
  },
  {
   "cell_type": "markdown",
   "metadata": {},
   "source": [
    "# 2. Model"
   ]
  },
  {
   "cell_type": "code",
   "execution_count": 13,
   "metadata": {},
   "outputs": [],
   "source": [
    "model = Sequential()\n",
    "\n",
    "model.add(LSTM(units=60, activation='relu', return_sequences=True, input_shape = (X_train.shape[1],X_train.shape[2])))\n",
    "model.add(Dropout(0.2))\n",
    "\n",
    "model.add(LSTM(units=80, activation='relu', return_sequences=True))\n",
    "model.add(Dropout(0.2))\n",
    "\n",
    "model.add(Dense(1))\n",
    "model.build()"
   ]
  },
  {
   "cell_type": "code",
   "execution_count": 14,
   "metadata": {},
   "outputs": [
    {
     "name": "stdout",
     "output_type": "stream",
     "text": [
      "Model: \"sequential\"\n",
      "_________________________________________________________________\n",
      "Layer (type)                 Output Shape              Param #   \n",
      "=================================================================\n",
      "lstm (LSTM)                  (None, 60, 60)            15600     \n",
      "_________________________________________________________________\n",
      "dropout (Dropout)            (None, 60, 60)            0         \n",
      "_________________________________________________________________\n",
      "lstm_1 (LSTM)                (None, 60, 80)            45120     \n",
      "_________________________________________________________________\n",
      "dropout_1 (Dropout)          (None, 60, 80)            0         \n",
      "_________________________________________________________________\n",
      "dense (Dense)                (None, 60, 1)             81        \n",
      "=================================================================\n",
      "Total params: 60,801\n",
      "Trainable params: 60,801\n",
      "Non-trainable params: 0\n",
      "_________________________________________________________________\n"
     ]
    }
   ],
   "source": [
    "model.summary()"
   ]
  },
  {
   "cell_type": "code",
   "execution_count": 15,
   "metadata": {},
   "outputs": [],
   "source": [
    "model.compile(optimizer='adam', loss='mean_squared_error')"
   ]
  },
  {
   "cell_type": "markdown",
   "metadata": {},
   "source": [
    "# 3. train"
   ]
  },
  {
   "cell_type": "code",
   "execution_count": 16,
   "metadata": {},
   "outputs": [
    {
     "name": "stdout",
     "output_type": "stream",
     "text": [
      "Epoch 1/10\n",
      "65/65 [==============================] - 7s 107ms/step - loss: 0.0047\n",
      "Epoch 2/10\n",
      "65/65 [==============================] - 6s 100ms/step - loss: 0.0014\n",
      "Epoch 3/10\n",
      "65/65 [==============================] - 7s 102ms/step - loss: 0.0012\n",
      "Epoch 4/10\n",
      "65/65 [==============================] - 6s 98ms/step - loss: 0.0010\n",
      "Epoch 5/10\n",
      "65/65 [==============================] - 8s 126ms/step - loss: 9.0590e-04\n",
      "Epoch 6/10\n",
      "65/65 [==============================] - 9s 134ms/step - loss: 8.4067e-04\n",
      "Epoch 7/10\n",
      "65/65 [==============================] - 7s 104ms/step - loss: 7.5024e-04\n",
      "Epoch 8/10\n",
      "65/65 [==============================] - 7s 112ms/step - loss: 7.1254e-04\n",
      "Epoch 9/10\n",
      "65/65 [==============================] - 7s 103ms/step - loss: 6.5785e-04\n",
      "Epoch 10/10\n",
      "65/65 [==============================] - 6s 92ms/step - loss: 6.3733e-04\n"
     ]
    },
    {
     "data": {
      "text/plain": [
       "<tensorflow.python.keras.callbacks.History at 0x7f1990032128>"
      ]
     },
     "execution_count": 16,
     "metadata": {},
     "output_type": "execute_result"
    }
   ],
   "source": [
    "model.fit(X_train, y_train, epochs=10, batch_size=30)"
   ]
  },
  {
   "cell_type": "code",
   "execution_count": 17,
   "metadata": {},
   "outputs": [
    {
     "data": {
      "text/plain": [
       "Text(0.5, 1.0, 'train data')"
      ]
     },
     "execution_count": 17,
     "metadata": {},
     "output_type": "execute_result"
    },
    {
     "data": {
      "image/png": "[encoded data removed]",
      "text/plain": [
       "<Figure size 432x288 with 1 Axes>"
      ]
     },
     "metadata": {
      "needs_background": "light"
     },
     "output_type": "display_data"
    }
   ],
   "source": [
    "pred = model.predict(X_train)\n",
    "plt.plot(pred[:,59])\n",
    "plt.plot(y_train)\n",
    "plt.legend(['prediction', 'actual'])\n",
    "plt.title('train data')"
   ]
  },
  {
   "cell_type": "markdown",
   "metadata": {},
   "source": [
    "# 4. evaluate"
   ]
  },
  {
   "cell_type": "code",
   "execution_count": 18,
   "metadata": {},
   "outputs": [
    {
     "data": {
      "text/plain": [
       "(389, 4)"
      ]
     },
     "execution_count": 18,
     "metadata": {},
     "output_type": "execute_result"
    }
   ],
   "source": [
    "# evaluate on test data\n",
    "test_data = scaler.fit_transform(ticker_df['2019-01-01':])\n",
    "test_data.shape"
   ]
  },
  {
   "cell_type": "code",
   "execution_count": 19,
   "metadata": {},
   "outputs": [],
   "source": [
    "X_test = []\n",
    "y_test = []\n",
    "for i in range(60, test_data.shape[0]):\n",
    "    X_test.append(test_data[i-60:i])\n",
    "    y_test.append(test_data[i, 0])\n",
    "    \n",
    "X_test = np.array(X_test)\n",
    "y_test = np.array(y_test)"
   ]
  },
  {
   "cell_type": "code",
   "execution_count": 20,
   "metadata": {},
   "outputs": [
    {
     "data": {
      "text/plain": [
       "Text(0.5, 1.0, 'train data')"
      ]
     },
     "execution_count": 20,
     "metadata": {},
     "output_type": "execute_result"
    },
    {
     "data": {
      "image/png": "[encoded data removed]",
      "text/plain": [
       "<Figure size 432x288 with 1 Axes>"
      ]
     },
     "metadata": {
      "needs_background": "light"
     },
     "output_type": "display_data"
    }
   ],
   "source": [
    "pred = model.predict(X_test)\n",
    "plt.plot(pred[:,-1])\n",
    "plt.plot(y_test)\n",
    "plt.legend(['prediction', 'actual'])\n",
    "plt.title('train data')"
   ]
  },
  {
   "cell_type": "code",
   "execution_count": 21,
   "metadata": {},
   "outputs": [
    {
     "data": {
      "text/plain": [
       "20.557432570598255"
      ]
     },
     "execution_count": 21,
     "metadata": {},
     "output_type": "execute_result"
    }
   ],
   "source": [
    "# metrics\n",
    "snr = 10*np.log10(np.sum(np.square( pred[:,59] - y_test ))/np.sum(np.square(y_test)))\n",
    "snr"
   ]
  },
  {
   "cell_type": "code",
   "execution_count": 22,
   "metadata": {},
   "outputs": [
    {
     "data": {
      "text/plain": [
       "(389, 4)"
      ]
     },
     "execution_count": 22,
     "metadata": {},
     "output_type": "execute_result"
    }
   ],
   "source": [
    "# evaluate on test data\n",
    "test_data = scaler.fit_transform(ticker_df['2019-01-01':])\n",
    "test_data.shape"
   ]
  },
  {
   "cell_type": "code",
   "execution_count": 23,
   "metadata": {},
   "outputs": [],
   "source": [
    "date = '2020-07-14'\n",
    "sequence_data = ticker_df[:date].iloc[-60-1:-1]"
   ]
  },
  {
   "cell_type": "code",
   "execution_count": 47,
   "metadata": {},
   "outputs": [
    {
     "data": {
      "text/plain": [
       "(1, 60, 4)"
      ]
     },
     "execution_count": 47,
     "metadata": {},
     "output_type": "execute_result"
    }
   ],
   "source": [
    "np.expand_dims(sequence_data, axis=0)"
   ]
  },
  {
   "cell_type": "code",
   "execution_count": 48,
   "metadata": {},
   "outputs": [
    {
     "data": {
      "text/plain": [
       "array([0.8722066], dtype=float32)"
      ]
     },
     "execution_count": 48,
     "metadata": {},
     "output_type": "execute_result"
    }
   ],
   "source": [
    "pred = model.predict(np.expand_dims(sequence_data, axis=0))\n",
    "pred[0,-1]"
   ]
  }
 ],
 "metadata": {
  "kernelspec": {
   "display_name": "Python 3",
   "language": "python",
   "name": "python3"
  },
  "language_info": {
   "codemirror_mode": {
    "name": "ipython",
    "version": 3
   },
   "file_extension": ".py",
   "mimetype": "text/x-python",
   "name": "python",
   "nbconvert_exporter": "python",
   "pygments_lexer": "ipython3",
   "version": "3.6.10"
  }
 },
 "nbformat": 4,
 "nbformat_minor": 4
}
